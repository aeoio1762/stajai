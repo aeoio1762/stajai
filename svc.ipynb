{
 "cells": [
  {
   "cell_type": "code",
   "execution_count": 2,
   "id": "8c818041",
   "metadata": {},
   "outputs": [],
   "source": [
    "from sklearn.datasets import make_blobs"
   ]
  },
  {
   "cell_type": "code",
   "execution_count": 3,
   "id": "406348d0",
   "metadata": {},
   "outputs": [],
   "source": [
    "x,y=make_blobs(n_samples=50, centers=2, random_state=0, cluster_std=0.60)"
   ]
  },
  {
   "cell_type": "code",
   "execution_count": 4,
   "id": "adf96799",
   "metadata": {},
   "outputs": [],
   "source": [
    "import matplotlib.pyplot as plt"
   ]
  },
  {
   "cell_type": "code",
   "execution_count": 5,
   "id": "88c9e1bb",
   "metadata": {},
   "outputs": [],
   "source": [
    "%matplotlib inline"
   ]
  },
  {
   "cell_type": "code",
   "execution_count": 7,
   "id": "58788a0a",
   "metadata": {},
   "outputs": [
    {
     "data": {
      "text/plain": [
       "<matplotlib.collections.PathCollection at 0x1fdd666afa0>"
      ]
     },
     "execution_count": 7,
     "metadata": {},
     "output_type": "execute_result"
    },
    {
     "data": {
      "image/png": "[encoded data removed]",
      "text/plain": [
       "<Figure size 432x288 with 1 Axes>"
      ]
     },
     "metadata": {
      "needs_background": "light"
     },
     "output_type": "display_data"
    }
   ],
   "source": [
    "plt.scatter(x[:,0],x[:,1], c=y, s=50, cmap='autumn')"
   ]
  },
  {
   "cell_type": "code",
   "execution_count": 10,
   "id": "67e460ce",
   "metadata": {},
   "outputs": [],
   "source": [
    "from sklearn.svm import SVC"
   ]
  },
  {
   "cell_type": "code",
   "execution_count": 11,
   "id": "2b3cc456",
   "metadata": {},
   "outputs": [],
   "source": [
    "model=SVC(kernel='linear', C=1E10)"
   ]
  },
  {
   "cell_type": "code",
   "execution_count": 12,
   "id": "3888209b",
   "metadata": {},
   "outputs": [
    {
     "data": {
      "text/plain": [
       "SVC(C=10000000000.0, kernel='linear')"
      ]
     },
     "execution_count": 12,
     "metadata": {},
     "output_type": "execute_result"
    }
   ],
   "source": [
    "model.fit(x,y)"
   ]
  },
  {
   "cell_type": "code",
   "execution_count": 13,
   "id": "13cce409",
   "metadata": {},
   "outputs": [],
   "source": [
    "from sklearn.datasets import make_circles"
   ]
  },
  {
   "cell_type": "code",
   "execution_count": 14,
   "id": "ba77832d",
   "metadata": {},
   "outputs": [],
   "source": [
    "x,y=make_circles(100, factor=.1, noise=.1)"
   ]
  },
  {
   "cell_type": "code",
   "execution_count": 15,
   "id": "002de18d",
   "metadata": {},
   "outputs": [],
   "source": [
    "clf=SVC(kernel='linear').fit(x,y)"
   ]
  },
  {
   "cell_type": "code",
   "execution_count": 16,
   "id": "8eb6a24e",
   "metadata": {},
   "outputs": [],
   "source": [
    "clf=SVC(kernel='rbf', C=1E6, gamma='auto').fit(x,y)#öznitelik ekliyoruz."
   ]
  },
  {
   "cell_type": "code",
   "execution_count": 17,
   "id": "362dc1e3",
   "metadata": {},
   "outputs": [],
   "source": [
    "x,y=make_blobs(n_samples=100, centers=2, random_state=0, cluster_std=1.2)"
   ]
  },
  {
   "cell_type": "code",
   "execution_count": 18,
   "id": "bba9a747",
   "metadata": {},
   "outputs": [
    {
     "data": {
      "text/plain": [
       "<matplotlib.collections.PathCollection at 0x1fdd99ba220>"
      ]
     },
     "execution_count": 18,
     "metadata": {},
     "output_type": "execute_result"
    },
    {
     "data": {
      "image/png": "[encoded data removed]",
      "text/plain": [
       "<Figure size 432x288 with 1 Axes>"
      ]
     },
     "metadata": {
      "needs_background": "light"
     },
     "output_type": "display_data"
    }
   ],
   "source": [
    "plt.scatter(x[:,0],x[:,1], c=y, s=50, cmap='autumn')"
   ]
  },
  {
   "cell_type": "code",
   "execution_count": 19,
   "id": "429e5f2e",
   "metadata": {},
   "outputs": [],
   "source": [
    "from sklearn.datasets import load_breast_cancer\n"
   ]
  },
  {
   "cell_type": "code",
   "execution_count": 20,
   "id": "f69dddee",
   "metadata": {},
   "outputs": [],
   "source": [
    "kanser=load_breast_cancer()\n"
   ]
  },
  {
   "cell_type": "code",
   "execution_count": 21,
   "id": "44ecfce1",
   "metadata": {},
   "outputs": [],
   "source": [
    "from sklearn.model_selection import train_test_split"
   ]
  },
  {
   "cell_type": "code",
   "execution_count": 22,
   "id": "dc2dc49a",
   "metadata": {},
   "outputs": [],
   "source": [
    "x_train, x_test, y_train, y_test = train_test_split(kanser.data,kanser.target,\n",
    "                                                   random_state=0) #Veriyi iki parçaya ayırdık."
   ]
  },
  {
   "cell_type": "code",
   "execution_count": 23,
   "id": "26764280",
   "metadata": {},
   "outputs": [],
   "source": [
    "svc=SVC(gamma='auto').fit(x_train,y_train)"
   ]
  },
  {
   "cell_type": "code",
   "execution_count": 25,
   "id": "ea507f9f",
   "metadata": {},
   "outputs": [
    {
     "name": "stdout",
     "output_type": "stream",
     "text": [
      "1.0\n",
      "0.6293706293706294\n"
     ]
    }
   ],
   "source": [
    "print(svc.score(x_train,y_train))\n",
    "print(svc.score(x_test,y_test))"
   ]
  },
  {
   "cell_type": "code",
   "execution_count": 28,
   "id": "29f17bea",
   "metadata": {},
   "outputs": [],
   "source": [
    "min_on_training=x_train.min(axis=0)"
   ]
  },
  {
   "cell_type": "code",
   "execution_count": 29,
   "id": "33c43bd1",
   "metadata": {},
   "outputs": [],
   "source": [
    "range_on_training=(x_train-min_on_training).max(axis=0)"
   ]
  },
  {
   "cell_type": "code",
   "execution_count": 35,
   "id": "71f519fa",
   "metadata": {},
   "outputs": [],
   "source": [
    "x_train_scaled=(x_train-min_on_training)/range_on_training\n",
    "x_test_scaled=(x_test-min_on_training)/range_on_training\n"
   ]
  },
  {
   "cell_type": "code",
   "execution_count": 36,
   "id": "f355efa8",
   "metadata": {},
   "outputs": [],
   "source": [
    "svc=SVC(gamma='auto').fit(x_train_scaled,y_train)"
   ]
  },
  {
   "cell_type": "code",
   "execution_count": 37,
   "id": "4fa7cd6b",
   "metadata": {},
   "outputs": [
    {
     "name": "stdout",
     "output_type": "stream",
     "text": [
      "0.9483568075117371\n",
      "0.951048951048951\n"
     ]
    }
   ],
   "source": [
    "print(svc.score(x_train_scaled,y_train))\n",
    "print(svc.score(x_test_scaled,y_test))"
   ]
  },
  {
   "cell_type": "code",
   "execution_count": 38,
   "id": "c6dcf30c",
   "metadata": {},
   "outputs": [
    {
     "name": "stdout",
     "output_type": "stream",
     "text": [
      "0.9882629107981221\n",
      "0.972027972027972\n"
     ]
    }
   ],
   "source": [
    "svc=SVC(C=1000,gamma='auto').fit(x_train_scaled,y_train)\n",
    "print(svc.score(x_train_scaled,y_train))\n",
    "print(svc.score(x_test_scaled,y_test))"
   ]
  },
  {
   "cell_type": "code",
   "execution_count": null,
   "id": "3aa86a94",
   "metadata": {},
   "outputs": [],
   "source": []
  }
 ],
 "metadata": {
  "kernelspec": {
   "display_name": "Python 3 (ipykernel)",
   "language": "python",
   "name": "python3"
  },
  "language_info": {
   "codemirror_mode": {
    "name": "ipython",
    "version": 3
   },
   "file_extension": ".py",
   "mimetype": "text/x-python",
   "name": "python",
   "nbconvert_exporter": "python",
   "pygments_lexer": "ipython3",
   "version": "3.9.7"
  }
 },
 "nbformat": 4,
 "nbformat_minor": 5
}
