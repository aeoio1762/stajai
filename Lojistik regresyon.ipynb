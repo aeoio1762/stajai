{
 "cells": [
  {
   "cell_type": "code",
   "execution_count": 21,
   "id": "12eff923",
   "metadata": {},
   "outputs": [],
   "source": [
    "from sklearn.datasets import load_breast_cancer"
   ]
  },
  {
   "cell_type": "code",
   "execution_count": 22,
   "id": "eaac1ba2",
   "metadata": {},
   "outputs": [],
   "source": [
    "kanser = load_breast_cancer()"
   ]
  },
  {
   "cell_type": "code",
   "execution_count": 23,
   "id": "588dab56",
   "metadata": {},
   "outputs": [],
   "source": [
    "from sklearn.model_selection import train_test_split"
   ]
  },
  {
   "cell_type": "code",
   "execution_count": 34,
   "id": "185d0975",
   "metadata": {},
   "outputs": [],
   "source": [
    "x_train, x_test, y_train, y_test = train_test_split(kanser.data, kanser.target,\n",
    "                                                    stratify=kanser.target, random_state=42)"
   ]
  },
  {
   "cell_type": "code",
   "execution_count": 35,
   "id": "137df442",
   "metadata": {},
   "outputs": [],
   "source": [
    "from sklearn.linear_model import LogisticRegression"
   ]
  },
  {
   "cell_type": "code",
   "execution_count": 36,
   "id": "4e4d6ee2",
   "metadata": {},
   "outputs": [],
   "source": [
    "logreg = LogisticRegression(solver = 'liblinear').fit(x_train, y_train)"
   ]
  },
  {
   "cell_type": "code",
   "execution_count": 40,
   "id": "87e3ab99",
   "metadata": {},
   "outputs": [
    {
     "name": "stdout",
     "output_type": "stream",
     "text": [
      "0.9553990610328639\n",
      "0.958041958041958\n"
     ]
    }
   ],
   "source": [
    "print(logreg.score(x_train, y_train))\n",
    "print(logreg.score(x_test,y_test))\n"
   ]
  },
  {
   "cell_type": "code",
   "execution_count": 41,
   "id": "625ffcb4",
   "metadata": {},
   "outputs": [],
   "source": [
    "logreg100 = LogisticRegression(C=100,solver = 'liblinear').fit(x_train, y_train)"
   ]
  },
  {
   "cell_type": "code",
   "execution_count": 42,
   "id": "cb311de1",
   "metadata": {},
   "outputs": [
    {
     "name": "stdout",
     "output_type": "stream",
     "text": [
      "0.971830985915493\n",
      "0.965034965034965\n"
     ]
    }
   ],
   "source": [
    "print(logreg100.score(x_train, y_train))\n",
    "print(logreg100.score(x_test,y_test))"
   ]
  },
  {
   "cell_type": "code",
   "execution_count": 44,
   "id": "d9599f2d",
   "metadata": {},
   "outputs": [
    {
     "name": "stdout",
     "output_type": "stream",
     "text": [
      "0.9342723004694836\n",
      "0.9300699300699301\n"
     ]
    }
   ],
   "source": [
    "logreg1000 = LogisticRegression(C=0.01,solver = 'liblinear').fit(x_train, y_train)\n",
    "print(logreg1000.score(x_train, y_train))\n",
    "print(logreg1000.score(x_test,y_test))"
   ]
  },
  {
   "cell_type": "code",
   "execution_count": 49,
   "id": "6636a063",
   "metadata": {},
   "outputs": [
    {
     "name": "stdout",
     "output_type": "stream",
     "text": [
      "C=0.001 için eğitim doğruluk 0.91\n",
      "C=0.001 için test doğruluk 0.92\n",
      "C=1.000 için eğitim doğruluk 0.96\n",
      "C=1.000 için test doğruluk 0.96\n",
      "C=100.000 için eğitim doğruluk 0.99\n",
      "C=100.000 için test doğruluk 0.98\n"
     ]
    }
   ],
   "source": [
    "for C, market in zip([0.001,1,100],['o','^', 'v']):\n",
    "    lr_l1 = LogisticRegression(penalty = 'l1', max_iter=1000, solver='liblinear', C=C).fit(x_train,y_train)\n",
    "    print('C={:.3f} için eğitim doğruluk {:.2f}'.format(C,lr_l1.score(x_train,y_train)))\n",
    "    print('C={:.3f} için test doğruluk {:.2f}'.format(C,lr_l1.score(x_test,y_test)))\n"
   ]
  },
  {
   "cell_type": "markdown",
   "id": "b9f76cbe",
   "metadata": {},
   "source": [
    "# ÇOKLU SINIFLANDIRMA"
   ]
  },
  {
   "cell_type": "code",
   "execution_count": 50,
   "id": "20ed055f",
   "metadata": {},
   "outputs": [],
   "source": [
    "from sklearn.datasets import make_blobs\n",
    "import mglearn\n"
   ]
  },
  {
   "cell_type": "markdown",
   "id": "607b7d9f",
   "metadata": {},
   "source": [
    "# Çizdirilecek grafikleri satır arasında görmek için %matplotlib inline"
   ]
  },
  {
   "cell_type": "code",
   "execution_count": 51,
   "id": "0e22eb00",
   "metadata": {},
   "outputs": [],
   "source": [
    "%matplotlib inline"
   ]
  },
  {
   "cell_type": "markdown",
   "id": "04769197",
   "metadata": {},
   "source": [
    "# Verisetindeki girdi ve çıktıları 'x' ve 'y' değişkenlerine atıyoruz."
   ]
  },
  {
   "cell_type": "code",
   "execution_count": 52,
   "id": "215a66c6",
   "metadata": {},
   "outputs": [],
   "source": [
    "x, y = make_blobs(random_state = 42)"
   ]
  },
  {
   "cell_type": "code",
   "execution_count": 56,
   "id": "f4cef707",
   "metadata": {},
   "outputs": [
    {
     "data": {
      "text/plain": [
       "<matplotlib.legend.Legend at 0x2194a5791c0>"
      ]
     },
     "execution_count": 56,
     "metadata": {},
     "output_type": "execute_result"
    },
    {
     "data": {
      "image/png": "[encoded data removed]",
      "text/plain": [
       "<Figure size 432x288 with 1 Axes>"
      ]
     },
     "metadata": {
      "needs_background": "light"
     },
     "output_type": "display_data"
    }
   ],
   "source": [
    "import matplotlib.pyplot as plt \n",
    "mglearn.discrete_scatter(x[:,0],x[:,1],y)#x verisindeki 0. index sütunu ve 1. index sütunu yazdılır.\n",
    "plt.xlabel('öznitelik 0')\n",
    "plt.ylabel('öznitelik 1')\n",
    "plt.legend(['sınıf 0','sınıf 1','sınıf 2'])"
   ]
  },
  {
   "cell_type": "code",
   "execution_count": 57,
   "id": "3e8c994b",
   "metadata": {},
   "outputs": [],
   "source": [
    "from sklearn.svm import LinearSVC"
   ]
  },
  {
   "cell_type": "code",
   "execution_count": 58,
   "id": "8388e1c4",
   "metadata": {},
   "outputs": [],
   "source": [
    "linear_svm = LinearSVC().fit(x,y)"
   ]
  },
  {
   "cell_type": "code",
   "execution_count": 59,
   "id": "dd412233",
   "metadata": {},
   "outputs": [
    {
     "data": {
      "text/plain": [
       "array([[-0.17492014,  0.23140529],\n",
       "       [ 0.47621615, -0.06936488],\n",
       "       [-0.18914454, -0.20399749]])"
      ]
     },
     "execution_count": 59,
     "metadata": {},
     "output_type": "execute_result"
    }
   ],
   "source": [
    "linear_svm.coef_"
   ]
  },
  {
   "cell_type": "code",
   "execution_count": 62,
   "id": "da16b164",
   "metadata": {},
   "outputs": [
    {
     "data": {
      "text/plain": [
       "<matplotlib.legend.Legend at 0x2194ad82820>"
      ]
     },
     "execution_count": 62,
     "metadata": {},
     "output_type": "execute_result"
    },
    {
     "data": {
      "image/png": "[encoded data removed]",
      "text/plain": [
       "<Figure size 432x288 with 1 Axes>"
      ]
     },
     "metadata": {
      "needs_background": "light"
     },
     "output_type": "display_data"
    }
   ],
   "source": [
    "import numpy as np\n",
    "mglearn.discrete_scatter(x[:,0],x[:,1],y)\n",
    "line=np.linspace(-15,15)\n",
    "for coef, intercept, color in zip (linear_svm.coef_, linear_svm.intercept_,['b','r','g']):\n",
    "    plt.plot(line,-(line*coef[0]+intercept)/coef[1],c=color)\n",
    "    \n",
    "plt.ylim(-10,15)\n",
    "plt.xlim(-10,8)\n",
    "plt.xlabel('Öznitelik 0')\n",
    "plt.ylabel('Öznitelik 1')\n",
    "plt.legend(['sınıf 0','sınıf 1','sınıf 2', 'doğru sınıf 0','doğru sınıf 1','doğru sınıf 2'], loc = (1))"
   ]
  }
 ],
 "metadata": {
  "kernelspec": {
   "display_name": "Python 3 (ipykernel)",
   "language": "python",
   "name": "python3"
  },
  "language_info": {
   "codemirror_mode": {
    "name": "ipython",
    "version": 3
   },
   "file_extension": ".py",
   "mimetype": "text/x-python",
   "name": "python",
   "nbconvert_exporter": "python",
   "pygments_lexer": "ipython3",
   "version": "3.9.7"
  }
 },
 "nbformat": 4,
 "nbformat_minor": 5
}
