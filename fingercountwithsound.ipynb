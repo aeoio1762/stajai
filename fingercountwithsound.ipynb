{
 "cells": [
  {
   "cell_type": "code",
   "execution_count": 2,
   "id": "b2bd7586",
   "metadata": {},
   "outputs": [],
   "source": [
    "import cv2\n",
    "import mediapipe as mp\n",
    "import pyttsx3\n",
    "import time"
   ]
  },
  {
   "cell_type": "code",
   "execution_count": 3,
   "id": "c8d10364",
   "metadata": {},
   "outputs": [],
   "source": [
    "cap = cv2.VideoCapture(0)\n",
    "mp_Hands = mp.solutions.hands # Elde 21 nokta çıkıyor ve bunlar arasındaki çizgileri çizmek için kullanılır.\n",
    "hands = mp_Hands.Hands() #el objesi oluşturulur.\n",
    "mpDraw = mp.solutions.drawing_utils #eldeki noktaları kameraya çizmek için kullanılır.\n",
    "\n",
    "finger_Coord = [(8, 6), (12, 10), (16, 14), (20, 18)]\n",
    "thumb_Coord = (4,2)"
   ]
  },
  {
   "cell_type": "code",
   "execution_count": 4,
   "id": "622b6d6c",
   "metadata": {},
   "outputs": [
    {
     "ename": "TypeError",
     "evalue": "Argument 'delay' is required to be an integer",
     "output_type": "error",
     "traceback": [
      "\u001b[1;31m---------------------------------------------------------------------------\u001b[0m",
      "\u001b[1;31mTypeError\u001b[0m                                 Traceback (most recent call last)",
      "\u001b[1;32m~\\AppData\\Local\\Temp/ipykernel_16692/1671302685.py\u001b[0m in \u001b[0;36m<module>\u001b[1;34m\u001b[0m\n\u001b[0;32m     57\u001b[0m \u001b[1;33m\u001b[0m\u001b[0m\n\u001b[0;32m     58\u001b[0m     \u001b[0mcv2\u001b[0m\u001b[1;33m.\u001b[0m\u001b[0mimshow\u001b[0m\u001b[1;33m(\u001b[0m\u001b[1;34m\"Counting number of fingers\"\u001b[0m\u001b[1;33m,\u001b[0m \u001b[0mimage\u001b[0m\u001b[1;33m)\u001b[0m\u001b[1;33m\u001b[0m\u001b[1;33m\u001b[0m\u001b[0m\n\u001b[1;32m---> 59\u001b[1;33m     \u001b[1;32mif\u001b[0m \u001b[0mcv2\u001b[0m\u001b[1;33m.\u001b[0m\u001b[0mwaitKey\u001b[0m\u001b[1;33m(\u001b[0m\u001b[1;36m0.1\u001b[0m\u001b[1;33m)\u001b[0m \u001b[1;33m&\u001b[0m \u001b[1;36m0xFF\u001b[0m \u001b[1;33m==\u001b[0m \u001b[0mord\u001b[0m\u001b[1;33m(\u001b[0m\u001b[1;34m\"q\"\u001b[0m\u001b[1;33m)\u001b[0m\u001b[1;33m:\u001b[0m\u001b[1;33m\u001b[0m\u001b[1;33m\u001b[0m\u001b[0m\n\u001b[0m\u001b[0;32m     60\u001b[0m         \u001b[1;32mbreak\u001b[0m\u001b[1;33m\u001b[0m\u001b[1;33m\u001b[0m\u001b[0m\n",
      "\u001b[1;31mTypeError\u001b[0m: Argument 'delay' is required to be an integer"
     ]
    }
   ],
   "source": [
    "while True:\n",
    "    ########RGB ye dönüştürme, mediapipe sadece RGB olarak kabul ediyor.############\n",
    "    success, image = cap.read()\n",
    "    RGB_image = cv2.cvtColor(image, cv2.COLOR_BGR2RGB)\n",
    "    results = hands.process(RGB_image)\n",
    "    multiLandMarks = results.multi_hand_landmarks #El içerisindeki noktaları bulur.\n",
    "    ################################################################################\n",
    "    if multiLandMarks:\n",
    "        handList = []\n",
    "        for handLms in multiLandMarks:\n",
    "            mpDraw.draw_landmarks(image, handLms, mp_Hands.HAND_CONNECTIONS)\n",
    "            for idx, lm in enumerate(handLms.landmark):\n",
    "              h, w, c = image.shape\n",
    "              cx, cy = int(lm.x * w), int(lm.y * h)\n",
    "              handList.append((cx, cy))\n",
    "        for point in handList:\n",
    "            cv2.circle(image, point, 10, (255, 255, 0), cv2.FILLED)\n",
    "        upCount = 0\n",
    "        for coordinate in finger_Coord:\n",
    "            if handList[coordinate[0]][1] < handList[coordinate[1]][1]:\n",
    "                upCount += 1\n",
    "        if handList[thumb_Coord[0]][0] > handList[thumb_Coord[1]][0]:\n",
    "            upCount += 1\n",
    "        \n",
    "        # Sesli çıktı.\n",
    "        if upCount == 1:\n",
    "                engine = pyttsx3.init()\n",
    "                engine.say('one')\n",
    "                engine.setProperty('rate', 200)\n",
    "                engine.runAndWait() \n",
    "                time.sleep(1)\n",
    "                \n",
    "        if upCount == 2:\n",
    "                engine = pyttsx3.init()\n",
    "                engine.say('two')\n",
    "                engine.setProperty('rate', 200)\n",
    "                engine.runAndWait() \n",
    "                time.sleep(1)\n",
    "        if upCount == 3:\n",
    "                engine = pyttsx3.init()\n",
    "                engine.say('three')\n",
    "                engine.setProperty('rate', 200)\n",
    "                engine.runAndWait() \n",
    "                time.sleep(1)\n",
    "        if upCount == 4:\n",
    "                engine = pyttsx3.init()\n",
    "                engine.say('four')\n",
    "                engine.setProperty('rate', 200)\n",
    "                engine.runAndWait() \n",
    "                time.sleep(1)\n",
    "        if upCount == 5:\n",
    "                engine = pyttsx3.init()\n",
    "                engine.say('five')\n",
    "                engine.setProperty('rate', 200)\n",
    "                engine.runAndWait() \n",
    "                time.sleep(1)\n",
    "                \n",
    "        cv2.putText(image, str(upCount), (150,150), cv2.FONT_HERSHEY_PLAIN, 12, (0,255,0), 12)\n",
    "\n",
    "    cv2.imshow(\"Sesli parmak sayımı\", image)\n",
    "    if cv2.waitKey(1) & 0xFF == ord(\"q\"):\n",
    "        break"
   ]
  },
  {
   "cell_type": "code",
   "execution_count": null,
   "id": "f130c988",
   "metadata": {},
   "outputs": [],
   "source": []
  }
 ],
 "metadata": {
  "kernelspec": {
   "display_name": "Python 3 (ipykernel)",
   "language": "python",
   "name": "python3"
  },
  "language_info": {
   "codemirror_mode": {
    "name": "ipython",
    "version": 3
   },
   "file_extension": ".py",
   "mimetype": "text/x-python",
   "name": "python",
   "nbconvert_exporter": "python",
   "pygments_lexer": "ipython3",
   "version": "3.9.7"
  }
 },
 "nbformat": 4,
 "nbformat_minor": 5
}
