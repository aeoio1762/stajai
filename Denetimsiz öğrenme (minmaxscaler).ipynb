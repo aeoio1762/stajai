{
 "cells": [
  {
   "cell_type": "markdown",
   "id": "050bbccf",
   "metadata": {},
   "source": [
    "# Unsupervised Learning and Data Scaling\n",
    "# (Denetimsiz öğrenme ve veri ölçekleme)"
   ]
  },
  {
   "cell_type": "code",
   "execution_count": 1,
   "id": "b1eecd12",
   "metadata": {},
   "outputs": [],
   "source": [
    "from sklearn.datasets import load_breast_cancer"
   ]
  },
  {
   "cell_type": "code",
   "execution_count": 15,
   "id": "ce78d8e6",
   "metadata": {},
   "outputs": [],
   "source": [
    "kanser=load_breast_cancer()\n",
    "from sklearn.model_selection import train_test_split #modeli parçalamak için tanımlıyoruz.\n",
    "x_train, x_test, y_train, y_test = train_test_split(kanser.data,kanser.target,\n",
    "                                                   random_state=1) #Veriyi iki parçaya ayırdık."
   ]
  },
  {
   "cell_type": "code",
   "execution_count": 16,
   "id": "1fa41436",
   "metadata": {},
   "outputs": [
    {
     "data": {
      "text/plain": [
       "MinMaxScaler()"
      ]
     },
     "execution_count": 16,
     "metadata": {},
     "output_type": "execute_result"
    }
   ],
   "source": [
    "from sklearn.preprocessing import MinMaxScaler\n",
    "scaler=MinMaxScaler()\n",
    "scaler.fit(x_train) #ölçekleme sadece x eğitim verisine uygulanır. y eğitim verisine uygulanmaz."
   ]
  },
  {
   "cell_type": "code",
   "execution_count": 28,
   "id": "b7bbed5c",
   "metadata": {},
   "outputs": [],
   "source": [
    "x_train_olcekli = scaler.transform(x_train) #sklearn de veriyi yeni şekilde ifade etmek için transform kullanılır."
   ]
  },
  {
   "cell_type": "code",
   "execution_count": 18,
   "id": "e90e67e2",
   "metadata": {},
   "outputs": [
    {
     "data": {
      "text/plain": [
       "array([6.981e+00, 9.710e+00, 4.379e+01, 1.435e+02, 5.263e-02, 1.938e-02,\n",
       "       0.000e+00, 0.000e+00, 1.060e-01, 5.024e-02, 1.153e-01, 3.602e-01,\n",
       "       7.570e-01, 6.802e+00, 1.713e-03, 2.252e-03, 0.000e+00, 0.000e+00,\n",
       "       9.539e-03, 8.948e-04, 7.930e+00, 1.202e+01, 5.041e+01, 1.852e+02,\n",
       "       7.117e-02, 2.729e-02, 0.000e+00, 0.000e+00, 1.566e-01, 5.521e-02])"
      ]
     },
     "execution_count": 18,
     "metadata": {},
     "output_type": "execute_result"
    }
   ],
   "source": [
    "x_train.min(axis=0) #ÖZNİTELİKLERİN MİN DEĞERİ"
   ]
  },
  {
   "cell_type": "code",
   "execution_count": 19,
   "id": "5e68fc5c",
   "metadata": {},
   "outputs": [
    {
     "data": {
      "text/plain": [
       "array([0., 0., 0., 0., 0., 0., 0., 0., 0., 0., 0., 0., 0., 0., 0., 0., 0.,\n",
       "       0., 0., 0., 0., 0., 0., 0., 0., 0., 0., 0., 0., 0.])"
      ]
     },
     "execution_count": 19,
     "metadata": {},
     "output_type": "execute_result"
    }
   ],
   "source": [
    "x_train_olcekli.min(axis=0) #özniteliklerin min değerleri 0 oldu."
   ]
  },
  {
   "cell_type": "code",
   "execution_count": 20,
   "id": "02cf4ce4",
   "metadata": {},
   "outputs": [
    {
     "data": {
      "text/plain": [
       "array([1., 1., 1., 1., 1., 1., 1., 1., 1., 1., 1., 1., 1., 1., 1., 1., 1.,\n",
       "       1., 1., 1., 1., 1., 1., 1., 1., 1., 1., 1., 1., 1.])"
      ]
     },
     "execution_count": 20,
     "metadata": {},
     "output_type": "execute_result"
    }
   ],
   "source": [
    "x_train_olcekli.max(axis=0)  #özniteliklerin max değerleri 1 oldu."
   ]
  },
  {
   "cell_type": "code",
   "execution_count": 21,
   "id": "8af96080",
   "metadata": {},
   "outputs": [],
   "source": [
    "x_test_olcekli=scaler.transform(x_test)"
   ]
  },
  {
   "cell_type": "code",
   "execution_count": 22,
   "id": "567ef1d7",
   "metadata": {},
   "outputs": [
    {
     "data": {
      "text/plain": [
       "array([ 0.0336031 ,  0.0226581 ,  0.03144219,  0.01141039,  0.14128374,\n",
       "        0.04406704,  0.        ,  0.        ,  0.1540404 , -0.00615249,\n",
       "       -0.00137796,  0.00594501,  0.00430665,  0.00079567,  0.03919502,\n",
       "        0.0112206 ,  0.        ,  0.        , -0.03191387,  0.00664013,\n",
       "        0.02660975,  0.05810235,  0.02031974,  0.00943767,  0.1094235 ,\n",
       "        0.02637792,  0.        ,  0.        , -0.00023764, -0.00182032])"
      ]
     },
     "execution_count": 22,
     "metadata": {},
     "output_type": "execute_result"
    }
   ],
   "source": [
    "x_test_olcekli.min(axis=0)"
   ]
  },
  {
   "cell_type": "code",
   "execution_count": 23,
   "id": "ac7c39a8",
   "metadata": {},
   "outputs": [
    {
     "data": {
      "text/plain": [
       "array([0.9578778 , 0.81501522, 0.95577362, 0.89353128, 0.81132075,\n",
       "       1.21958701, 0.87956888, 0.9333996 , 0.93232323, 1.0371347 ,\n",
       "       0.42669616, 0.49765736, 0.44117231, 0.28371044, 0.48703131,\n",
       "       0.73863671, 0.76717172, 0.62928585, 1.33685792, 0.39057253,\n",
       "       0.89612238, 0.79317697, 0.84859804, 0.74488793, 0.9154725 ,\n",
       "       1.13188961, 1.07008547, 0.92371134, 1.20532319, 1.63068851])"
      ]
     },
     "execution_count": 23,
     "metadata": {},
     "output_type": "execute_result"
    }
   ],
   "source": [
    "x_test_olcekli.max(axis=0)"
   ]
  },
  {
   "cell_type": "code",
   "execution_count": 25,
   "id": "066a1f76",
   "metadata": {},
   "outputs": [
    {
     "data": {
      "text/plain": [
       "0.9440559440559441"
      ]
     },
     "execution_count": 25,
     "metadata": {},
     "output_type": "execute_result"
    }
   ],
   "source": [
    "from sklearn.svm import SVC\n",
    "x_train, x_test, y_train, y_test = train_test_split(kanser.data,kanser.target,\n",
    "                                                   random_state=0) #Veriyi iki parçaya ayırdık.\n",
    "svm=SVC(C=100)\n",
    "svm.fit(x_train,y_train)#model kuruldu\n",
    "svm.score(x_test,y_test)#modelin performansını görüyoruz."
   ]
  },
  {
   "cell_type": "code",
   "execution_count": 26,
   "id": "2170c23e",
   "metadata": {},
   "outputs": [],
   "source": [
    "scaler=MinMaxScaler()\n",
    "scaler.fit(x_train)\n",
    "x_train_olcekli=scaler.transform(x_train)\n",
    "x_test_olcekli=scaler.transform(x_test)"
   ]
  },
  {
   "cell_type": "code",
   "execution_count": 27,
   "id": "ebb524ec",
   "metadata": {},
   "outputs": [
    {
     "data": {
      "text/plain": [
       "0.965034965034965"
      ]
     },
     "execution_count": 27,
     "metadata": {},
     "output_type": "execute_result"
    }
   ],
   "source": [
    "svm.fit(x_train_olcekli,y_train)\n",
    "svm.score(x_test_olcekli,y_test)"
   ]
  }
 ],
 "metadata": {
  "kernelspec": {
   "display_name": "Python 3 (ipykernel)",
   "language": "python",
   "name": "python3"
  },
  "language_info": {
   "codemirror_mode": {
    "name": "ipython",
    "version": 3
   },
   "file_extension": ".py",
   "mimetype": "text/x-python",
   "name": "python",
   "nbconvert_exporter": "python",
   "pygments_lexer": "ipython3",
   "version": "3.9.7"
  }
 },
 "nbformat": 4,
 "nbformat_minor": 5
}
