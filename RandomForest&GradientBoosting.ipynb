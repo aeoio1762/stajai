{
 "cells": [
  {
   "cell_type": "markdown",
   "id": "09f2311d",
   "metadata": {},
   "source": [
    "# Ensemble Learning"
   ]
  },
  {
   "cell_type": "markdown",
   "id": "4062c051",
   "metadata": {},
   "source": [
    "## Random Forest & Gradient Bosting"
   ]
  },
  {
   "cell_type": "code",
   "execution_count": 15,
   "id": "6085c709",
   "metadata": {},
   "outputs": [],
   "source": [
    "from sklearn.datasets import make_moons"
   ]
  },
  {
   "cell_type": "code",
   "execution_count": 16,
   "id": "c05e1795",
   "metadata": {},
   "outputs": [],
   "source": [
    "x,y=make_moons(n_samples=100, noise=0.25, random_state=3)\n",
    "#noise Gauss gürültüsünün standart sapması."
   ]
  },
  {
   "cell_type": "code",
   "execution_count": 17,
   "id": "7265e7cf",
   "metadata": {},
   "outputs": [],
   "source": [
    "from sklearn.model_selection import train_test_split\n",
    "x_train, x_test, y_train, y_test = train_test_split(x,y,stratify=y)"
   ]
  },
  {
   "cell_type": "code",
   "execution_count": 18,
   "id": "72c26717",
   "metadata": {},
   "outputs": [],
   "source": [
    "from sklearn.ensemble import RandomForestClassifier\n",
    "from sklearn.ensemble import VotingClassifier\n",
    "from sklearn.linear_model import LogisticRegression\n",
    "from sklearn.svm import SVC"
   ]
  },
  {
   "cell_type": "code",
   "execution_count": 31,
   "id": "89b715f9",
   "metadata": {},
   "outputs": [],
   "source": [
    "log = LogisticRegression(solver='lbfgs').fit(x_train,y_train)\n",
    "rnd = RandomForestClassifier(n_estimators=10).fit(x_train, y_train)\n",
    "svm = SVC(gamma='auto').fit(x_train,y_train)\n",
    "voting=VotingClassifier(estimators= [('lr',log),('rf', rnd),('svc',svm)],\n",
    "                        voting='hard').fit(x_train,y_train)"
   ]
  },
  {
   "cell_type": "code",
   "execution_count": 32,
   "id": "cc199ce4",
   "metadata": {},
   "outputs": [
    {
     "name": "stdout",
     "output_type": "stream",
     "text": [
      "0.72\n",
      "0.92\n",
      "0.76\n",
      "0.72\n"
     ]
    }
   ],
   "source": [
    "print(log.score(x_test,y_test))\n",
    "print(rnd.score(x_test,y_test))\n",
    "print(svm.score(x_test,y_test))\n",
    "print(voting.score(x_test,y_test))"
   ]
  },
  {
   "cell_type": "code",
   "execution_count": 34,
   "id": "47dbb902",
   "metadata": {},
   "outputs": [],
   "source": [
    "from sklearn.ensemble import BaggingClassifier\n",
    "from sklearn.tree import DecisionTreeClassifier"
   ]
  },
  {
   "cell_type": "code",
   "execution_count": 59,
   "id": "cad5b9f2",
   "metadata": {},
   "outputs": [],
   "source": [
    "from sklearn.datasets import make_blobs\n",
    "x,y = make_blobs(n_samples=300, centers=4, random_state=0,cluster_std=1)\n",
    "x_train,x_test, y_train,y_test=train_test_split(x,y,stratify=y)"
   ]
  },
  {
   "cell_type": "code",
   "execution_count": 96,
   "id": "57b133f0",
   "metadata": {},
   "outputs": [],
   "source": [
    "tree = DecisionTreeClassifier().fit(x_train,y_train)\n",
    "bag = BaggingClassifier(tree,\n",
    "                       n_estimators=100, #kurulacak olan ağaç sayısı.\n",
    "                       max_samples=0.8,\n",
    "                       n_jobs=-1, #tüm işlemcilerin kullanılması için -1 yazıyoruz.\n",
    "                       random_state=1).fit(x_train,y_train)"
   ]
  },
  {
   "cell_type": "code",
   "execution_count": 97,
   "id": "c3223473",
   "metadata": {},
   "outputs": [
    {
     "name": "stdout",
     "output_type": "stream",
     "text": [
      "0.8741258741258742\n",
      "0.9790209790209791\n"
     ]
    }
   ],
   "source": [
    "print(tree.score(x_test,y_test))\n",
    "print(bag.score(x_test,y_test))"
   ]
  },
  {
   "cell_type": "markdown",
   "id": "ab690901",
   "metadata": {},
   "source": [
    "Sonuç olarak 100 ağaç tek ağacın çalışmasına göre daha başarılı sonuç verdi."
   ]
  },
  {
   "cell_type": "markdown",
   "id": "8aab2ec0",
   "metadata": {},
   "source": [
    "# RANDOM FOREST"
   ]
  },
  {
   "cell_type": "code",
   "execution_count": 62,
   "id": "0b1f19f4",
   "metadata": {},
   "outputs": [],
   "source": [
    "x,y=make_moons(n_samples=100, noise=0.25, random_state=3)\n",
    "x_train, x_test, y_train, y_test = train_test_split(x,y,stratify=y)"
   ]
  },
  {
   "cell_type": "code",
   "execution_count": 66,
   "id": "0c1bd862",
   "metadata": {},
   "outputs": [],
   "source": [
    "forest = RandomForestClassifier(n_estimators=5).fit(x_train,y_train)"
   ]
  },
  {
   "cell_type": "code",
   "execution_count": 67,
   "id": "987b96bc",
   "metadata": {},
   "outputs": [],
   "source": [
    "from sklearn.datasets import load_breast_cancer\n",
    "kanser = load_breast_cancer()\n",
    "x_train, x_test, y_train, y_test = train_test_split(kanser.data, kanser.target, random_state = 0)"
   ]
  },
  {
   "cell_type": "code",
   "execution_count": 68,
   "id": "d9f72341",
   "metadata": {},
   "outputs": [
    {
     "name": "stdout",
     "output_type": "stream",
     "text": [
      "0.965034965034965\n"
     ]
    }
   ],
   "source": [
    "forest = RandomForestClassifier(n_estimators=100).fit(x_train,y_train)\n",
    "print(forest.score(x_test,y_test))"
   ]
  },
  {
   "cell_type": "markdown",
   "id": "f5f5ca92",
   "metadata": {},
   "source": [
    "# GRADIENT BOOSTING"
   ]
  },
  {
   "cell_type": "code",
   "execution_count": 92,
   "id": "d0e46969",
   "metadata": {},
   "outputs": [],
   "source": [
    "from sklearn.ensemble import GradientBoostingClassifier\n",
    "gbrt = GradientBoostingClassifier(learning_rate=0.01, random_state = 0).fit(x_train,y_train)\n",
    "#gbrt = GradientBoostingClassifier(max_depth=0.01, random_state = 0).fit(x_train,y_train)\n",
    "#overfitting (Aşırı uydurma) durumunu önlemek için max derinlik ayarlanır(max_depth).\n",
    "#learning rate, önceki ağacın hatasını doğrulamak için ne kadar çaba harcanacağını gösterir."
   ]
  },
  {
   "cell_type": "code",
   "execution_count": 93,
   "id": "ae1ea144",
   "metadata": {},
   "outputs": [
    {
     "name": "stdout",
     "output_type": "stream",
     "text": [
      "0.965034965034965\n",
      "0.9882629107981221\n"
     ]
    }
   ],
   "source": [
    "print(gbrt.score(x_test,y_test))\n",
    "print(gbrt.score(x_train, y_train))"
   ]
  },
  {
   "cell_type": "code",
   "execution_count": null,
   "id": "30f5e763",
   "metadata": {},
   "outputs": [],
   "source": []
  }
 ],
 "metadata": {
  "kernelspec": {
   "display_name": "Python 3 (ipykernel)",
   "language": "python",
   "name": "python3"
  },
  "language_info": {
   "codemirror_mode": {
    "name": "ipython",
    "version": 3
   },
   "file_extension": ".py",
   "mimetype": "text/x-python",
   "name": "python",
   "nbconvert_exporter": "python",
   "pygments_lexer": "ipython3",
   "version": "3.9.7"
  }
 },
 "nbformat": 4,
 "nbformat_minor": 5
}
